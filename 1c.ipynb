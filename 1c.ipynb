{
 "cells": [
  {
   "cell_type": "code",
   "execution_count": 1,
   "metadata": {},
   "outputs": [],
   "source": [
    "import bs4\n",
    "import requests\n",
    "import pandas as pd"
   ]
  },
  {
   "cell_type": "code",
   "execution_count": 2,
   "metadata": {},
   "outputs": [],
   "source": [
    "req=requests.get('https://www.flipkart.com/motorola-g34-5g-ocean-green-128-gb/product-reviews/itm6b1a33b9d9191?pid=MOBGUFK4TZ2CJYHJ&lid=LSTMOBGUFK4TZ2CJYHJPBUF6M&marketplace=FLIPKART&page=1')"
   ]
  },
  {
   "cell_type": "code",
   "execution_count": 5,
   "metadata": {},
   "outputs": [
    {
     "name": "stdout",
     "output_type": "stream",
     "text": [
      "<Response [200]>\n"
     ]
    }
   ],
   "source": [
    "print(req)"
   ]
  },
  {
   "cell_type": "code",
   "execution_count": 6,
   "metadata": {},
   "outputs": [],
   "source": [
    "soup=bs4.BeautifulSoup(req.text)"
   ]
  },
  {
   "cell_type": "code",
   "execution_count": 9,
   "metadata": {},
   "outputs": [
    {
     "data": {
      "text/plain": [
       "['Sadique Akhtar',\n",
       " 'SANJOY GHOSH',\n",
       " 'Gunjan Pareek',\n",
       " 'Chandru',\n",
       " 'Flipkart Customer',\n",
       " 'Rohan Rai',\n",
       " 'Ritesh  Kumar',\n",
       " 'Ajit Poonia',\n",
       " 'Sunder Pushparaj S',\n",
       " 'abhi kumar']"
      ]
     },
     "execution_count": 9,
     "metadata": {},
     "output_type": "execute_result"
    }
   ],
   "source": [
    "customers_list=soup.find_all('p', class_=\"_2NsDsF AwS1CA\")\n",
    "customers=[]\n",
    "for cust in customers_list:\n",
    "    customers.append(cust.text)\n",
    "\n",
    "customers"
   ]
  },
  {
   "cell_type": "code",
   "execution_count": 11,
   "metadata": {},
   "outputs": [
    {
     "data": {
      "text/plain": [
       "['4', '4', '5', '5', '5', '4', '5', '5', '5', '5']"
      ]
     },
     "execution_count": 11,
     "metadata": {},
     "output_type": "execute_result"
    }
   ],
   "source": [
    "rating_list=soup.find_all('div', class_=\"XQDdHH Ga3i8K\")\n",
    "ratings=[]\n",
    "for rating in rating_list:\n",
    "    ratings.append(rating.text)\n",
    "\n",
    "ratings"
   ]
  },
  {
   "cell_type": "code",
   "execution_count": 20,
   "metadata": {},
   "outputs": [
    {
     "data": {
      "text/plain": [
       "['abhi kumar',\n",
       " 'abhi kumar',\n",
       " 'abhi kumar',\n",
       " 'abhi kumar',\n",
       " 'abhi kumar',\n",
       " 'abhi kumar',\n",
       " 'abhi kumar',\n",
       " 'abhi kumar',\n",
       " 'abhi kumar',\n",
       " 'abhi kumar']"
      ]
     },
     "execution_count": 20,
     "metadata": {},
     "output_type": "execute_result"
    }
   ],
   "source": [
    "titles_list=soup.find_all('p', class_=\"z9E0IG\")\n",
    "titles=[]\n",
    "for title in titles_list:\n",
    "    titles.append(cust.text)\n",
    "\n",
    "titles"
   ]
  },
  {
   "cell_type": "code",
   "execution_count": 14,
   "metadata": {},
   "outputs": [
    {
     "data": {
      "text/plain": [
       "[\"1. Look (pros): Premium back design. Vegan leather cover gives awesome look (especially the ocean green color is awesome).2. Display (cons): HD+ as it says, so don't assume it to show Full HD+ view, so if you want good display then this phone is not for you.3. Battery (pros): 5000 mAH battery is good for 1 day continuous use.4. Camera (cons): Decent, takes time to process the captured pics. But camera is good at this price. Moto G32 with same camera configuration captures way better photos...\",\n",
       " \"Display touching problem. battery it's ok , design ok.budget wise this moto phone good.\",\n",
       " \"Hello everyoneI am Gunjan PareekI am using Moto g34 5g (8+128) since last 2 daysIt was my first motorola phone. Before this I was using mostly redmi brand smartphone like redmi note 7, redmi 10 prime and redmi 11 prime 5gBelieve me, before receiving the delivery, I was afraid that how will be the phone and how will be it's display because I read the review on this phone that it's display is not quite good but as I on this.... I fall in love of it's displayIt is my suggestion that, Peo...\",\n",
       " 'Super smart phone this segment',\n",
       " 'Good phoneMust buy',\n",
       " 'Only display is not so good otherwise phone is very good in performance',\n",
       " 'Best 5 G phone in this price range. It works perfectly smoothly and fine. Go for it.',\n",
       " 'good',\n",
       " \"Best mobile in low budget...It's all good 💯\",\n",
       " 'Best phone indeed in this price range right now! In terms of connectivity,productivity,performance, this device delivers what is asked from it.Moto provides READY FOR feature(only 8GB RAM variant),which is excellent, along with a lot of convenient features. Only downside in this phone is battery draining quickly maybe because of 5g usage.']"
      ]
     },
     "execution_count": 14,
     "metadata": {},
     "output_type": "execute_result"
    }
   ],
   "source": [
    "bodyDiv=soup.find_all('div', class_='ZmyHeo')\n",
    "reviews=[]\n",
    "for div in bodyDiv:\n",
    "    div1=div.find('div')\n",
    "    div2=div1.find('div')\n",
    "    reviews.append(div2.text)\n",
    "\n",
    "reviews"
   ]
  },
  {
   "cell_type": "code",
   "execution_count": 58,
   "metadata": {},
   "outputs": [
    {
     "data": {
      "text/plain": [
       "10"
      ]
     },
     "execution_count": 58,
     "metadata": {},
     "output_type": "execute_result"
    }
   ],
   "source": [
    "len(reviews)"
   ]
  },
  {
   "cell_type": "code",
   "execution_count": 16,
   "metadata": {},
   "outputs": [
    {
     "data": {
      "text/html": [
       "<div>\n",
       "<style scoped>\n",
       "    .dataframe tbody tr th:only-of-type {\n",
       "        vertical-align: middle;\n",
       "    }\n",
       "\n",
       "    .dataframe tbody tr th {\n",
       "        vertical-align: top;\n",
       "    }\n",
       "\n",
       "    .dataframe thead th {\n",
       "        text-align: right;\n",
       "    }\n",
       "</style>\n",
       "<table border=\"1\" class=\"dataframe\">\n",
       "  <thead>\n",
       "    <tr style=\"text-align: right;\">\n",
       "      <th></th>\n",
       "    </tr>\n",
       "  </thead>\n",
       "  <tbody>\n",
       "  </tbody>\n",
       "</table>\n",
       "</div>"
      ],
      "text/plain": [
       "Empty DataFrame\n",
       "Columns: []\n",
       "Index: []"
      ]
     },
     "execution_count": 16,
     "metadata": {},
     "output_type": "execute_result"
    }
   ],
   "source": [
    "df=pd.DataFrame()\n",
    "df"
   ]
  },
  {
   "cell_type": "code",
   "execution_count": 17,
   "metadata": {},
   "outputs": [],
   "source": [
    "df['Customer Name']=customers"
   ]
  },
  {
   "cell_type": "code",
   "execution_count": 18,
   "metadata": {},
   "outputs": [],
   "source": [
    "df['Rating']=ratings"
   ]
  },
  {
   "cell_type": "code",
   "execution_count": 21,
   "metadata": {},
   "outputs": [],
   "source": [
    "df['Review Title']=titles\n",
    "df['Review']=reviews"
   ]
  },
  {
   "cell_type": "code",
   "execution_count": 22,
   "metadata": {},
   "outputs": [
    {
     "data": {
      "text/html": [
       "<div>\n",
       "<style scoped>\n",
       "    .dataframe tbody tr th:only-of-type {\n",
       "        vertical-align: middle;\n",
       "    }\n",
       "\n",
       "    .dataframe tbody tr th {\n",
       "        vertical-align: top;\n",
       "    }\n",
       "\n",
       "    .dataframe thead th {\n",
       "        text-align: right;\n",
       "    }\n",
       "</style>\n",
       "<table border=\"1\" class=\"dataframe\">\n",
       "  <thead>\n",
       "    <tr style=\"text-align: right;\">\n",
       "      <th></th>\n",
       "      <th>Customer Name</th>\n",
       "      <th>Rating</th>\n",
       "      <th>Review Title</th>\n",
       "      <th>Review</th>\n",
       "    </tr>\n",
       "  </thead>\n",
       "  <tbody>\n",
       "    <tr>\n",
       "      <th>0</th>\n",
       "      <td>Sadique Akhtar</td>\n",
       "      <td>4</td>\n",
       "      <td>abhi kumar</td>\n",
       "      <td>1. Look (pros): Premium back design. Vegan lea...</td>\n",
       "    </tr>\n",
       "    <tr>\n",
       "      <th>1</th>\n",
       "      <td>SANJOY GHOSH</td>\n",
       "      <td>4</td>\n",
       "      <td>abhi kumar</td>\n",
       "      <td>Display touching problem. battery it's ok , de...</td>\n",
       "    </tr>\n",
       "    <tr>\n",
       "      <th>2</th>\n",
       "      <td>Gunjan Pareek</td>\n",
       "      <td>5</td>\n",
       "      <td>abhi kumar</td>\n",
       "      <td>Hello everyoneI am Gunjan PareekI am using Mot...</td>\n",
       "    </tr>\n",
       "    <tr>\n",
       "      <th>3</th>\n",
       "      <td>Chandru</td>\n",
       "      <td>5</td>\n",
       "      <td>abhi kumar</td>\n",
       "      <td>Super smart phone this segment</td>\n",
       "    </tr>\n",
       "    <tr>\n",
       "      <th>4</th>\n",
       "      <td>Flipkart Customer</td>\n",
       "      <td>5</td>\n",
       "      <td>abhi kumar</td>\n",
       "      <td>Good phoneMust buy</td>\n",
       "    </tr>\n",
       "    <tr>\n",
       "      <th>5</th>\n",
       "      <td>Rohan Rai</td>\n",
       "      <td>4</td>\n",
       "      <td>abhi kumar</td>\n",
       "      <td>Only display is not so good otherwise phone is...</td>\n",
       "    </tr>\n",
       "    <tr>\n",
       "      <th>6</th>\n",
       "      <td>Ritesh  Kumar</td>\n",
       "      <td>5</td>\n",
       "      <td>abhi kumar</td>\n",
       "      <td>Best 5 G phone in this price range. It works p...</td>\n",
       "    </tr>\n",
       "    <tr>\n",
       "      <th>7</th>\n",
       "      <td>Ajit Poonia</td>\n",
       "      <td>5</td>\n",
       "      <td>abhi kumar</td>\n",
       "      <td>good</td>\n",
       "    </tr>\n",
       "    <tr>\n",
       "      <th>8</th>\n",
       "      <td>Sunder Pushparaj S</td>\n",
       "      <td>5</td>\n",
       "      <td>abhi kumar</td>\n",
       "      <td>Best mobile in low budget...It's all good 💯</td>\n",
       "    </tr>\n",
       "    <tr>\n",
       "      <th>9</th>\n",
       "      <td>abhi kumar</td>\n",
       "      <td>5</td>\n",
       "      <td>abhi kumar</td>\n",
       "      <td>Best phone indeed in this price range right no...</td>\n",
       "    </tr>\n",
       "  </tbody>\n",
       "</table>\n",
       "</div>"
      ],
      "text/plain": [
       "        Customer Name Rating Review Title  \\\n",
       "0      Sadique Akhtar      4   abhi kumar   \n",
       "1        SANJOY GHOSH      4   abhi kumar   \n",
       "2       Gunjan Pareek      5   abhi kumar   \n",
       "3             Chandru      5   abhi kumar   \n",
       "4   Flipkart Customer      5   abhi kumar   \n",
       "5           Rohan Rai      4   abhi kumar   \n",
       "6       Ritesh  Kumar      5   abhi kumar   \n",
       "7         Ajit Poonia      5   abhi kumar   \n",
       "8  Sunder Pushparaj S      5   abhi kumar   \n",
       "9          abhi kumar      5   abhi kumar   \n",
       "\n",
       "                                              Review  \n",
       "0  1. Look (pros): Premium back design. Vegan lea...  \n",
       "1  Display touching problem. battery it's ok , de...  \n",
       "2  Hello everyoneI am Gunjan PareekI am using Mot...  \n",
       "3                     Super smart phone this segment  \n",
       "4                                 Good phoneMust buy  \n",
       "5  Only display is not so good otherwise phone is...  \n",
       "6  Best 5 G phone in this price range. It works p...  \n",
       "7                                               good  \n",
       "8        Best mobile in low budget...It's all good 💯  \n",
       "9  Best phone indeed in this price range right no...  "
      ]
     },
     "execution_count": 22,
     "metadata": {},
     "output_type": "execute_result"
    }
   ],
   "source": [
    "df"
   ]
  },
  {
   "cell_type": "code",
   "execution_count": 51,
   "metadata": {},
   "outputs": [],
   "source": [
    "df.to_csv('reviews.csv',index=True)"
   ]
  },
  {
   "cell_type": "code",
   "execution_count": 23,
   "metadata": {},
   "outputs": [],
   "source": [
    "df.to_csv('reviews2.csv', index=False)"
   ]
  },
  {
   "cell_type": "code",
   "execution_count": null,
   "metadata": {},
   "outputs": [],
   "source": []
  }
 ],
 "metadata": {
  "kernelspec": {
   "display_name": "Python 3.10.9 64-bit",
   "language": "python",
   "name": "python3"
  },
  "language_info": {
   "codemirror_mode": {
    "name": "ipython",
    "version": 3
   },
   "file_extension": ".py",
   "mimetype": "text/x-python",
   "name": "python",
   "nbconvert_exporter": "python",
   "pygments_lexer": "ipython3",
   "version": "3.10.9"
  },
  "orig_nbformat": 4,
  "vscode": {
   "interpreter": {
    "hash": "7e1998ff7f8aa20ada591c520b972326324e5ea05489af9e422744c7c09f6dad"
   }
  }
 },
 "nbformat": 4,
 "nbformat_minor": 2
}
